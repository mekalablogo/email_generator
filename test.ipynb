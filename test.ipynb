{
 "cells": [
  {
   "cell_type": "code",
   "execution_count": 29,
   "metadata": {},
   "outputs": [
    {
     "name": "stdout",
     "output_type": "stream",
     "text": [
      "Validation failed! Status code: 500\n",
      "Error: {'detail': 'Internal Server Error', 'error_type': 'KeyError', 'error_message': \"'intent'\", 'trace': 'Traceback (most recent call last):\\n  File \"C:\\\\Users\\\\Dell\\\\AppData\\\\Local\\\\Packages\\\\PythonSoftwareFoundation.Python.3.10_qbz5n2kfra8p0\\\\LocalCache\\\\local-packages\\\\Python310\\\\site-packages\\\\anyio\\\\streams\\\\memory.py\", line 111, in receive\\n    return self.receive_nowait()\\n  File \"C:\\\\Users\\\\Dell\\\\AppData\\\\Local\\\\Packages\\\\PythonSoftwareFoundation.Python.3.10_qbz5n2kfra8p0\\\\LocalCache\\\\local-packages\\\\Python310\\\\site-packages\\\\anyio\\\\streams\\\\memory.py\", line 106, in receive_nowait\\n    raise WouldBlock\\nanyio.WouldBlock\\n\\nDuring handling of the above exception, another exception occurred:\\n\\nTraceback (most recent call last):\\n  File \"C:\\\\Users\\\\Dell\\\\AppData\\\\Local\\\\Packages\\\\PythonSoftwareFoundation.Python.3.10_qbz5n2kfra8p0\\\\LocalCache\\\\local-packages\\\\Python310\\\\site-packages\\\\anyio\\\\streams\\\\memory.py\", line 124, in receive\\n    return receiver.item\\nAttributeError: \\'MemoryObjectItemReceiver\\' object has no attribute \\'item\\'\\n\\nDuring handling of the above exception, another exception occurred:\\n\\nTraceback (most recent call last):\\n  File \"C:\\\\Users\\\\Dell\\\\AppData\\\\Local\\\\Packages\\\\PythonSoftwareFoundation.Python.3.10_qbz5n2kfra8p0\\\\LocalCache\\\\local-packages\\\\Python310\\\\site-packages\\\\starlette\\\\middleware\\\\base.py\", line 157, in call_next\\n    message = await recv_stream.receive()\\n  File \"C:\\\\Users\\\\Dell\\\\AppData\\\\Local\\\\Packages\\\\PythonSoftwareFoundation.Python.3.10_qbz5n2kfra8p0\\\\LocalCache\\\\local-packages\\\\Python310\\\\site-packages\\\\anyio\\\\streams\\\\memory.py\", line 126, in receive\\n    raise EndOfStream\\nanyio.EndOfStream\\n\\nDuring handling of the above exception, another exception occurred:\\n\\nTraceback (most recent call last):\\n  File \"C:\\\\Users\\\\Dell\\\\Desktop\\\\mindInventory\\\\middleware.py\", line 25, in global_exception_handler\\n    response = await call_next(request)\\n  File \"C:\\\\Users\\\\Dell\\\\AppData\\\\Local\\\\Packages\\\\PythonSoftwareFoundation.Python.3.10_qbz5n2kfra8p0\\\\LocalCache\\\\local-packages\\\\Python310\\\\site-packages\\\\starlette\\\\middleware\\\\base.py\", line 163, in call_next\\n    raise app_exc\\n  File \"C:\\\\Users\\\\Dell\\\\AppData\\\\Local\\\\Packages\\\\PythonSoftwareFoundation.Python.3.10_qbz5n2kfra8p0\\\\LocalCache\\\\local-packages\\\\Python310\\\\site-packages\\\\starlette\\\\middleware\\\\base.py\", line 149, in coro\\n    await self.app(scope, receive_or_disconnect, send_no_error)\\n  File \"C:\\\\Users\\\\Dell\\\\AppData\\\\Local\\\\Packages\\\\PythonSoftwareFoundation.Python.3.10_qbz5n2kfra8p0\\\\LocalCache\\\\local-packages\\\\Python310\\\\site-packages\\\\starlette\\\\middleware\\\\exceptions.py\", line 62, in __call__\\n    await wrap_app_handling_exceptions(self.app, conn)(scope, receive, send)\\n  File \"C:\\\\Users\\\\Dell\\\\AppData\\\\Local\\\\Packages\\\\PythonSoftwareFoundation.Python.3.10_qbz5n2kfra8p0\\\\LocalCache\\\\local-packages\\\\Python310\\\\site-packages\\\\starlette\\\\_exception_handler.py\", line 62, in wrapped_app\\n    raise exc\\n  File \"C:\\\\Users\\\\Dell\\\\AppData\\\\Local\\\\Packages\\\\PythonSoftwareFoundation.Python.3.10_qbz5n2kfra8p0\\\\LocalCache\\\\local-packages\\\\Python310\\\\site-packages\\\\starlette\\\\_exception_handler.py\", line 51, in wrapped_app\\n    await app(scope, receive, sender)\\n  File \"C:\\\\Users\\\\Dell\\\\AppData\\\\Local\\\\Packages\\\\PythonSoftwareFoundation.Python.3.10_qbz5n2kfra8p0\\\\LocalCache\\\\local-packages\\\\Python310\\\\site-packages\\\\starlette\\\\routing.py\", line 715, in __call__\\n    await self.middleware_stack(scope, receive, send)\\n  File \"C:\\\\Users\\\\Dell\\\\AppData\\\\Local\\\\Packages\\\\PythonSoftwareFoundation.Python.3.10_qbz5n2kfra8p0\\\\LocalCache\\\\local-packages\\\\Python310\\\\site-packages\\\\starlette\\\\routing.py\", line 735, in app\\n    await route.handle(scope, receive, send)\\n  File \"C:\\\\Users\\\\Dell\\\\AppData\\\\Local\\\\Packages\\\\PythonSoftwareFoundation.Python.3.10_qbz5n2kfra8p0\\\\LocalCache\\\\local-packages\\\\Python310\\\\site-packages\\\\starlette\\\\routing.py\", line 288, in handle\\n    await self.app(scope, receive, send)\\n  File \"C:\\\\Users\\\\Dell\\\\AppData\\\\Local\\\\Packages\\\\PythonSoftwareFoundation.Python.3.10_qbz5n2kfra8p0\\\\LocalCache\\\\local-packages\\\\Python310\\\\site-packages\\\\starlette\\\\routing.py\", line 76, in app\\n    await wrap_app_handling_exceptions(app, request)(scope, receive, send)\\n  File \"C:\\\\Users\\\\Dell\\\\AppData\\\\Local\\\\Packages\\\\PythonSoftwareFoundation.Python.3.10_qbz5n2kfra8p0\\\\LocalCache\\\\local-packages\\\\Python310\\\\site-packages\\\\starlette\\\\_exception_handler.py\", line 62, in wrapped_app\\n    raise exc\\n  File \"C:\\\\Users\\\\Dell\\\\AppData\\\\Local\\\\Packages\\\\PythonSoftwareFoundation.Python.3.10_qbz5n2kfra8p0\\\\LocalCache\\\\local-packages\\\\Python310\\\\site-packages\\\\starlette\\\\_exception_handler.py\", line 51, in wrapped_app\\n    await app(scope, receive, sender)\\n  File \"C:\\\\Users\\\\Dell\\\\AppData\\\\Local\\\\Packages\\\\PythonSoftwareFoundation.Python.3.10_qbz5n2kfra8p0\\\\LocalCache\\\\local-packages\\\\Python310\\\\site-packages\\\\starlette\\\\routing.py\", line 73, in app\\n    response = await f(request)\\n  File \"C:\\\\Users\\\\Dell\\\\AppData\\\\Local\\\\Packages\\\\PythonSoftwareFoundation.Python.3.10_qbz5n2kfra8p0\\\\LocalCache\\\\local-packages\\\\Python310\\\\site-packages\\\\fastapi\\\\routing.py\", line 301, in app\\n    raw_response = await run_endpoint_function(\\n  File \"C:\\\\Users\\\\Dell\\\\AppData\\\\Local\\\\Packages\\\\PythonSoftwareFoundation.Python.3.10_qbz5n2kfra8p0\\\\LocalCache\\\\local-packages\\\\Python310\\\\site-packages\\\\fastapi\\\\routing.py\", line 212, in run_endpoint_function\\n    return await dependant.call(**values)\\n  File \"C:\\\\Users\\\\Dell\\\\Desktop\\\\mindInventory\\\\routes.py\", line 48, in generate_synthetic_mail\\n    intent_class = intent_result[\"intent\"],\\nKeyError: \\'intent\\'\\n'}\n"
     ]
    }
   ],
   "source": [
    "import requests\n",
    "\n",
    "# Define the API endpoint\n",
    "url = \"http://127.0.0.1:8000/generate-email/\"\n",
    "\n",
    "# Define the payload\n",
    "payload = {\n",
    "    \"email\": \"kimpossible@gmail.com\",\n",
    "    \"name\": \"Kim Possible\",\n",
    "    \"country\": \"India\",\n",
    "    \"contact_number\": \"+918688642324\",\n",
    "    \"message\": \"Need Go and Web developers\",\n",
    "    \"last_3_pages_visited\": [\n",
    "        \"https://www.mindinventory.com/golang-development.php\",\n",
    "        \"https://www.mindinventory.com/hire-ai-developers.php\"\n",
    "    ]\n",
    "}\n",
    "\n",
    "# Send the POST request\n",
    "response = requests.post(url, json=payload)\n",
    "\n",
    "# Check the response\n",
    "if response.status_code == 200:\n",
    "    print(\"Validation successful!\")\n",
    "    print(\"Response:\", response.json())\n",
    "else:\n",
    "    print(f\"Validation failed! Status code: {response.status_code}\")\n",
    "    print(\"Error:\", response.json())\n"
   ]
  },
  {
   "cell_type": "code",
   "execution_count": null,
   "metadata": {},
   "outputs": [],
   "source": []
  }
 ],
 "metadata": {
  "kernelspec": {
   "display_name": "Python 3",
   "language": "python",
   "name": "python3"
  },
  "language_info": {
   "codemirror_mode": {
    "name": "ipython",
    "version": 3
   },
   "file_extension": ".py",
   "mimetype": "text/x-python",
   "name": "python",
   "nbconvert_exporter": "python",
   "pygments_lexer": "ipython3",
   "version": "3.12.3"
  }
 },
 "nbformat": 4,
 "nbformat_minor": 2
}
